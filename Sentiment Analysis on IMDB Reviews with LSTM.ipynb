{
 "cells": [
  {
   "cell_type": "markdown",
   "id": "ee5764b4",
   "metadata": {},
   "source": [
    "## Importing the dependencies"
   ]
  },
  {
   "cell_type": "code",
   "execution_count": 2,
   "id": "e8418ede",
   "metadata": {},
   "outputs": [],
   "source": [
    "import os\n",
    "import json\n",
    "\n",
    "from zipfile import ZipFile\n",
    "import pandas as pd\n",
    "from sklearn.model_selection import train_test_split\n",
    "from tensorflow.keras.models import Sequential\n",
    "from tensorflow.keras.layers import Dense, Embedding, LSTM\n",
    "from tensorflow.keras.preprocessing.text import Tokenizer\n",
    "from tensorflow.keras.preprocessing.sequence import pad_sequences"
   ]
  },
  {
   "cell_type": "code",
   "execution_count": 3,
   "id": "c1d1854e",
   "metadata": {},
   "outputs": [],
   "source": [
    "kaggle_dictionary = json.load(open(\"kaggle.json\"))"
   ]
  },
  {
   "cell_type": "code",
   "execution_count": 4,
   "id": "af2def6e",
   "metadata": {},
   "outputs": [
    {
     "data": {
      "text/plain": [
       "dict_keys(['username', 'key'])"
      ]
     },
     "execution_count": 4,
     "metadata": {},
     "output_type": "execute_result"
    }
   ],
   "source": [
    "kaggle_dictionary.keys()"
   ]
  },
  {
   "cell_type": "code",
   "execution_count": 5,
   "id": "f83d5508",
   "metadata": {},
   "outputs": [],
   "source": [
    "# Setup kaggle credentials as environment variables\n",
    "os.environ[\"KAGGLE_USERNAME\"] = kaggle_dictionary[\"username\"]\n",
    "os.environ[\"KAGGLE_KEY\"] = kaggle_dictionary[\"key\"]"
   ]
  },
  {
   "cell_type": "code",
   "execution_count": 6,
   "id": "7d0f5a91",
   "metadata": {},
   "outputs": [
    {
     "name": "stdout",
     "output_type": "stream",
     "text": [
      "Dataset URL: https://www.kaggle.com/datasets/lakshmi25npathi/imdb-dataset-of-50k-movie-reviews\n",
      "License(s): other\n",
      "Downloading imdb-dataset-of-50k-movie-reviews.zip to C:\\Users\\Admin\n",
      "\n"
     ]
    },
    {
     "name": "stderr",
     "output_type": "stream",
     "text": [
      "\n",
      "  0%|          | 0.00/25.7M [00:00<?, ?B/s]\n",
      "  4%|3         | 1.00M/25.7M [00:00<00:22, 1.17MB/s]\n",
      "  8%|7         | 2.00M/25.7M [00:01<00:10, 2.28MB/s]\n",
      " 12%|#1        | 3.00M/25.7M [00:01<00:07, 3.31MB/s]\n",
      " 16%|#5        | 4.00M/25.7M [00:01<00:05, 4.18MB/s]\n",
      " 19%|#9        | 5.00M/25.7M [00:01<00:04, 5.01MB/s]\n",
      " 23%|##3       | 6.00M/25.7M [00:01<00:03, 5.66MB/s]\n",
      " 27%|##7       | 7.00M/25.7M [00:01<00:03, 5.81MB/s]\n",
      " 31%|###1      | 8.00M/25.7M [00:01<00:03, 6.18MB/s]\n",
      " 35%|###5      | 9.00M/25.7M [00:02<00:02, 6.51MB/s]\n",
      " 39%|###8      | 10.0M/25.7M [00:02<00:02, 6.72MB/s]\n",
      " 43%|####2     | 11.0M/25.7M [00:02<00:02, 6.48MB/s]\n",
      " 47%|####6     | 12.0M/25.7M [00:02<00:02, 6.12MB/s]\n",
      " 51%|#####     | 13.0M/25.7M [00:02<00:02, 6.30MB/s]\n",
      " 54%|#####4    | 14.0M/25.7M [00:02<00:01, 6.35MB/s]\n",
      " 58%|#####8    | 15.0M/25.7M [00:03<00:02, 5.08MB/s]\n",
      " 66%|######6   | 17.0M/25.7M [00:03<00:01, 7.55MB/s]\n",
      " 70%|#######   | 18.0M/25.7M [00:03<00:01, 7.39MB/s]\n",
      " 74%|#######3  | 19.0M/25.7M [00:03<00:00, 7.48MB/s]\n",
      " 78%|#######7  | 20.0M/25.7M [00:03<00:00, 7.20MB/s]\n",
      " 82%|########1 | 21.0M/25.7M [00:03<00:00, 7.34MB/s]\n",
      " 86%|########5 | 22.0M/25.7M [00:04<00:00, 7.05MB/s]\n",
      " 89%|########9 | 23.0M/25.7M [00:04<00:00, 6.14MB/s]\n",
      " 93%|#########3| 24.0M/25.7M [00:04<00:00, 5.79MB/s]\n",
      " 97%|#########7| 25.0M/25.7M [00:04<00:00, 5.40MB/s]\n",
      "100%|##########| 25.7M/25.7M [00:04<00:00, 5.03MB/s]\n",
      "100%|##########| 25.7M/25.7M [00:04<00:00, 5.48MB/s]\n"
     ]
    }
   ],
   "source": [
    "!kaggle datasets download -d lakshmi25npathi/imdb-dataset-of-50k-movie-reviews"
   ]
  },
  {
   "cell_type": "code",
   "execution_count": 10,
   "id": "f036a6a3",
   "metadata": {},
   "outputs": [],
   "source": [
    "zip_file_path = \"C:/Users/Admin/imdb-dataset-of-50k-movie-reviews.zip\"\n",
    "\n",
    "# Unzip the dataset file\n",
    "with ZipFile(zip_file_path, \"r\") as zip_ref:\n",
    "    zip_ref.extractall(\"C:/Users/Admin/imdb-dataset\") "
   ]
  },
  {
   "cell_type": "code",
   "execution_count": 12,
   "id": "1e563a2c",
   "metadata": {},
   "outputs": [
    {
     "name": "stdout",
     "output_type": "stream",
     "text": [
      "['IMDB Dataset.csv']\n"
     ]
    }
   ],
   "source": [
    "extracted_files = os.listdir(\"C:/Users/Admin/imdb-dataset\")\n",
    "print(extracted_files)"
   ]
  },
  {
   "cell_type": "markdown",
   "id": "20243fa9",
   "metadata": {},
   "source": [
    "## Loading the dataset"
   ]
  },
  {
   "cell_type": "code",
   "execution_count": 13,
   "id": "ead89407",
   "metadata": {},
   "outputs": [],
   "source": [
    "data = pd.read_csv(\"C:/Users/Admin/imdb-dataset/IMDB Dataset.csv\")"
   ]
  },
  {
   "cell_type": "code",
   "execution_count": 14,
   "id": "ae242fb5",
   "metadata": {},
   "outputs": [
    {
     "data": {
      "text/plain": [
       "(50000, 2)"
      ]
     },
     "execution_count": 14,
     "metadata": {},
     "output_type": "execute_result"
    }
   ],
   "source": [
    "data.shape"
   ]
  },
  {
   "cell_type": "code",
   "execution_count": 15,
   "id": "f006e3ca",
   "metadata": {},
   "outputs": [
    {
     "data": {
      "text/html": [
       "<div>\n",
       "<style scoped>\n",
       "    .dataframe tbody tr th:only-of-type {\n",
       "        vertical-align: middle;\n",
       "    }\n",
       "\n",
       "    .dataframe tbody tr th {\n",
       "        vertical-align: top;\n",
       "    }\n",
       "\n",
       "    .dataframe thead th {\n",
       "        text-align: right;\n",
       "    }\n",
       "</style>\n",
       "<table border=\"1\" class=\"dataframe\">\n",
       "  <thead>\n",
       "    <tr style=\"text-align: right;\">\n",
       "      <th></th>\n",
       "      <th>review</th>\n",
       "      <th>sentiment</th>\n",
       "    </tr>\n",
       "  </thead>\n",
       "  <tbody>\n",
       "    <tr>\n",
       "      <th>0</th>\n",
       "      <td>One of the other reviewers has mentioned that ...</td>\n",
       "      <td>positive</td>\n",
       "    </tr>\n",
       "    <tr>\n",
       "      <th>1</th>\n",
       "      <td>A wonderful little production. &lt;br /&gt;&lt;br /&gt;The...</td>\n",
       "      <td>positive</td>\n",
       "    </tr>\n",
       "    <tr>\n",
       "      <th>2</th>\n",
       "      <td>I thought this was a wonderful way to spend ti...</td>\n",
       "      <td>positive</td>\n",
       "    </tr>\n",
       "    <tr>\n",
       "      <th>3</th>\n",
       "      <td>Basically there's a family where a little boy ...</td>\n",
       "      <td>negative</td>\n",
       "    </tr>\n",
       "    <tr>\n",
       "      <th>4</th>\n",
       "      <td>Petter Mattei's \"Love in the Time of Money\" is...</td>\n",
       "      <td>positive</td>\n",
       "    </tr>\n",
       "  </tbody>\n",
       "</table>\n",
       "</div>"
      ],
      "text/plain": [
       "                                              review sentiment\n",
       "0  One of the other reviewers has mentioned that ...  positive\n",
       "1  A wonderful little production. <br /><br />The...  positive\n",
       "2  I thought this was a wonderful way to spend ti...  positive\n",
       "3  Basically there's a family where a little boy ...  negative\n",
       "4  Petter Mattei's \"Love in the Time of Money\" is...  positive"
      ]
     },
     "execution_count": 15,
     "metadata": {},
     "output_type": "execute_result"
    }
   ],
   "source": [
    "data.head()"
   ]
  },
  {
   "cell_type": "code",
   "execution_count": 16,
   "id": "69286c40",
   "metadata": {},
   "outputs": [
    {
     "data": {
      "text/html": [
       "<div>\n",
       "<style scoped>\n",
       "    .dataframe tbody tr th:only-of-type {\n",
       "        vertical-align: middle;\n",
       "    }\n",
       "\n",
       "    .dataframe tbody tr th {\n",
       "        vertical-align: top;\n",
       "    }\n",
       "\n",
       "    .dataframe thead th {\n",
       "        text-align: right;\n",
       "    }\n",
       "</style>\n",
       "<table border=\"1\" class=\"dataframe\">\n",
       "  <thead>\n",
       "    <tr style=\"text-align: right;\">\n",
       "      <th></th>\n",
       "      <th>review</th>\n",
       "      <th>sentiment</th>\n",
       "    </tr>\n",
       "  </thead>\n",
       "  <tbody>\n",
       "    <tr>\n",
       "      <th>49995</th>\n",
       "      <td>I thought this movie did a down right good job...</td>\n",
       "      <td>positive</td>\n",
       "    </tr>\n",
       "    <tr>\n",
       "      <th>49996</th>\n",
       "      <td>Bad plot, bad dialogue, bad acting, idiotic di...</td>\n",
       "      <td>negative</td>\n",
       "    </tr>\n",
       "    <tr>\n",
       "      <th>49997</th>\n",
       "      <td>I am a Catholic taught in parochial elementary...</td>\n",
       "      <td>negative</td>\n",
       "    </tr>\n",
       "    <tr>\n",
       "      <th>49998</th>\n",
       "      <td>I'm going to have to disagree with the previou...</td>\n",
       "      <td>negative</td>\n",
       "    </tr>\n",
       "    <tr>\n",
       "      <th>49999</th>\n",
       "      <td>No one expects the Star Trek movies to be high...</td>\n",
       "      <td>negative</td>\n",
       "    </tr>\n",
       "  </tbody>\n",
       "</table>\n",
       "</div>"
      ],
      "text/plain": [
       "                                                  review sentiment\n",
       "49995  I thought this movie did a down right good job...  positive\n",
       "49996  Bad plot, bad dialogue, bad acting, idiotic di...  negative\n",
       "49997  I am a Catholic taught in parochial elementary...  negative\n",
       "49998  I'm going to have to disagree with the previou...  negative\n",
       "49999  No one expects the Star Trek movies to be high...  negative"
      ]
     },
     "execution_count": 16,
     "metadata": {},
     "output_type": "execute_result"
    }
   ],
   "source": [
    "data.tail()"
   ]
  },
  {
   "cell_type": "code",
   "execution_count": 17,
   "id": "512deb08",
   "metadata": {},
   "outputs": [
    {
     "data": {
      "text/plain": [
       "positive    25000\n",
       "negative    25000\n",
       "Name: sentiment, dtype: int64"
      ]
     },
     "execution_count": 17,
     "metadata": {},
     "output_type": "execute_result"
    }
   ],
   "source": [
    "data['sentiment'].value_counts()"
   ]
  },
  {
   "cell_type": "code",
   "execution_count": 18,
   "id": "f0cb7700",
   "metadata": {},
   "outputs": [],
   "source": [
    "data.replace({\"sentiment\": {\"positive\": 1, \"negative\": 0}}, inplace=True)"
   ]
  },
  {
   "cell_type": "code",
   "execution_count": 19,
   "id": "c0d7d196",
   "metadata": {},
   "outputs": [
    {
     "data": {
      "text/html": [
       "<div>\n",
       "<style scoped>\n",
       "    .dataframe tbody tr th:only-of-type {\n",
       "        vertical-align: middle;\n",
       "    }\n",
       "\n",
       "    .dataframe tbody tr th {\n",
       "        vertical-align: top;\n",
       "    }\n",
       "\n",
       "    .dataframe thead th {\n",
       "        text-align: right;\n",
       "    }\n",
       "</style>\n",
       "<table border=\"1\" class=\"dataframe\">\n",
       "  <thead>\n",
       "    <tr style=\"text-align: right;\">\n",
       "      <th></th>\n",
       "      <th>review</th>\n",
       "      <th>sentiment</th>\n",
       "    </tr>\n",
       "  </thead>\n",
       "  <tbody>\n",
       "    <tr>\n",
       "      <th>0</th>\n",
       "      <td>One of the other reviewers has mentioned that ...</td>\n",
       "      <td>1</td>\n",
       "    </tr>\n",
       "    <tr>\n",
       "      <th>1</th>\n",
       "      <td>A wonderful little production. &lt;br /&gt;&lt;br /&gt;The...</td>\n",
       "      <td>1</td>\n",
       "    </tr>\n",
       "    <tr>\n",
       "      <th>2</th>\n",
       "      <td>I thought this was a wonderful way to spend ti...</td>\n",
       "      <td>1</td>\n",
       "    </tr>\n",
       "    <tr>\n",
       "      <th>3</th>\n",
       "      <td>Basically there's a family where a little boy ...</td>\n",
       "      <td>0</td>\n",
       "    </tr>\n",
       "    <tr>\n",
       "      <th>4</th>\n",
       "      <td>Petter Mattei's \"Love in the Time of Money\" is...</td>\n",
       "      <td>1</td>\n",
       "    </tr>\n",
       "  </tbody>\n",
       "</table>\n",
       "</div>"
      ],
      "text/plain": [
       "                                              review  sentiment\n",
       "0  One of the other reviewers has mentioned that ...          1\n",
       "1  A wonderful little production. <br /><br />The...          1\n",
       "2  I thought this was a wonderful way to spend ti...          1\n",
       "3  Basically there's a family where a little boy ...          0\n",
       "4  Petter Mattei's \"Love in the Time of Money\" is...          1"
      ]
     },
     "execution_count": 19,
     "metadata": {},
     "output_type": "execute_result"
    }
   ],
   "source": [
    "data.head()"
   ]
  },
  {
   "cell_type": "code",
   "execution_count": 20,
   "id": "af0c7f2b",
   "metadata": {},
   "outputs": [
    {
     "data": {
      "text/plain": [
       "1    25000\n",
       "0    25000\n",
       "Name: sentiment, dtype: int64"
      ]
     },
     "execution_count": 20,
     "metadata": {},
     "output_type": "execute_result"
    }
   ],
   "source": [
    "data['sentiment'].value_counts()"
   ]
  },
  {
   "cell_type": "code",
   "execution_count": 21,
   "id": "0e6802fb",
   "metadata": {},
   "outputs": [],
   "source": [
    "# split data into training data and test data\n",
    "train_data, test_data = train_test_split(data, test_size=0.2, random_state=42)"
   ]
  },
  {
   "cell_type": "code",
   "execution_count": 22,
   "id": "f4556922",
   "metadata": {},
   "outputs": [
    {
     "name": "stdout",
     "output_type": "stream",
     "text": [
      "(40000, 2)\n",
      "(10000, 2)\n"
     ]
    }
   ],
   "source": [
    "print(train_data.shape)\n",
    "print(test_data.shape)"
   ]
  },
  {
   "cell_type": "markdown",
   "id": "1d8722f7",
   "metadata": {},
   "source": [
    "## Data Preprocessing"
   ]
  },
  {
   "cell_type": "code",
   "execution_count": 23,
   "id": "f7a33779",
   "metadata": {},
   "outputs": [],
   "source": [
    "# Tokenize text data\n",
    "tokenizer = Tokenizer(num_words=5000)\n",
    "tokenizer.fit_on_texts(train_data[\"review\"])\n",
    "X_train = pad_sequences(tokenizer.texts_to_sequences(train_data[\"review\"]), maxlen=200)\n",
    "X_test = pad_sequences(tokenizer.texts_to_sequences(test_data[\"review\"]), maxlen=200)"
   ]
  },
  {
   "cell_type": "code",
   "execution_count": 24,
   "id": "9ef2692a",
   "metadata": {},
   "outputs": [
    {
     "name": "stdout",
     "output_type": "stream",
     "text": [
      "[[1935    1 1200 ...  205  351 3856]\n",
      " [   3 1651  595 ...   89  103    9]\n",
      " [   0    0    0 ...    2  710   62]\n",
      " ...\n",
      " [   0    0    0 ... 1641    2  603]\n",
      " [   0    0    0 ...  245  103  125]\n",
      " [   0    0    0 ...   70   73 2062]]\n"
     ]
    }
   ],
   "source": [
    "print(X_train)"
   ]
  },
  {
   "cell_type": "code",
   "execution_count": 25,
   "id": "15d79c3c",
   "metadata": {},
   "outputs": [
    {
     "name": "stdout",
     "output_type": "stream",
     "text": [
      "[[   0    0    0 ...  995  719  155]\n",
      " [  12  162   59 ...  380    7    7]\n",
      " [   0    0    0 ...   50 1088   96]\n",
      " ...\n",
      " [   0    0    0 ...  125  200 3241]\n",
      " [   0    0    0 ... 1066    1 2305]\n",
      " [   0    0    0 ...    1  332   27]]\n"
     ]
    }
   ],
   "source": [
    "print(X_test)"
   ]
  },
  {
   "cell_type": "code",
   "execution_count": 26,
   "id": "bcf0400c",
   "metadata": {},
   "outputs": [],
   "source": [
    "Y_train = train_data['sentiment']\n",
    "Y_test = test_data['sentiment']"
   ]
  },
  {
   "cell_type": "code",
   "execution_count": 27,
   "id": "747c84ec",
   "metadata": {},
   "outputs": [
    {
     "name": "stdout",
     "output_type": "stream",
     "text": [
      "39087    0\n",
      "30893    0\n",
      "45278    1\n",
      "16398    0\n",
      "13653    0\n",
      "        ..\n",
      "11284    1\n",
      "44732    1\n",
      "38158    0\n",
      "860      1\n",
      "15795    1\n",
      "Name: sentiment, Length: 40000, dtype: int64\n"
     ]
    }
   ],
   "source": [
    "print(Y_train)"
   ]
  },
  {
   "cell_type": "markdown",
   "id": "9a34b524",
   "metadata": {},
   "source": [
    "## LSTM - Long Short-Term Memory"
   ]
  },
  {
   "cell_type": "code",
   "execution_count": 28,
   "id": "79c99874",
   "metadata": {},
   "outputs": [],
   "source": [
    "# Build the model\n",
    "\n",
    "model = Sequential()\n",
    "model.add(Embedding(input_dim=5000, output_dim=128, input_length=200))\n",
    "model.add(LSTM(128, dropout=0.2, recurrent_dropout=0.2))\n",
    "model.add(Dense(1, activation=\"sigmoid\"))"
   ]
  },
  {
   "cell_type": "markdown",
   "id": "7bb02d8f",
   "metadata": {},
   "source": [
    "**Dense(1):**\n",
    "Đây là lớp đầu ra với một neuron (1 unit), vì bài toán này là bài toán phân loại nhị phân (positive hoặc negative). Mỗi unit trong lớp đầu ra sẽ biểu diễn một giá trị xác suất.\n",
    "\n",
    "**activation=\"sigmoid\":**\n",
    "Hàm kích hoạt sigmoid được sử dụng trong các bài toán phân loại nhị phân vì nó đưa ra một đầu ra trong khoảng từ 0 đến 1, phù hợp để biểu diễn xác suất. Giá trị càng gần 1 thì càng có khả năng sentiment là tích cực, còn gần 0 là tiêu cực."
   ]
  },
  {
   "cell_type": "code",
   "execution_count": 29,
   "id": "02d3bdc4",
   "metadata": {},
   "outputs": [
    {
     "name": "stdout",
     "output_type": "stream",
     "text": [
      "Model: \"sequential\"\n",
      "_________________________________________________________________\n",
      " Layer (type)                Output Shape              Param #   \n",
      "=================================================================\n",
      " embedding (Embedding)       (None, 200, 128)          640000    \n",
      "                                                                 \n",
      " lstm (LSTM)                 (None, 128)               131584    \n",
      "                                                                 \n",
      " dense (Dense)               (None, 1)                 129       \n",
      "                                                                 \n",
      "=================================================================\n",
      "Total params: 771,713\n",
      "Trainable params: 771,713\n",
      "Non-trainable params: 0\n",
      "_________________________________________________________________\n"
     ]
    }
   ],
   "source": [
    "model.summary()"
   ]
  },
  {
   "cell_type": "code",
   "execution_count": 30,
   "id": "8d2cea24",
   "metadata": {},
   "outputs": [],
   "source": [
    "# Compile the model\n",
    "model.compile(optimizer=\"adam\", loss=\"binary_crossentropy\", metrics=[\"accuracy\"])"
   ]
  },
  {
   "cell_type": "markdown",
   "id": "0b53b2cd",
   "metadata": {},
   "source": [
    "**\"binary_crossentropy\"** được sử dụng trong các bài toán phân loại nhị phân (binary classification), nơi mà bạn có hai lớp (ví dụ: tích cực và tiêu cực)."
   ]
  },
  {
   "cell_type": "markdown",
   "id": "ca3d96af",
   "metadata": {},
   "source": [
    "## Training the model"
   ]
  },
  {
   "cell_type": "code",
   "execution_count": 31,
   "id": "5417cd72",
   "metadata": {},
   "outputs": [
    {
     "name": "stdout",
     "output_type": "stream",
     "text": [
      "Epoch 1/5\n",
      "500/500 [==============================] - 328s 650ms/step - loss: 0.3991 - accuracy: 0.8168 - val_loss: 0.3500 - val_accuracy: 0.8545\n",
      "Epoch 2/5\n",
      "500/500 [==============================] - 1160s 2s/step - loss: 0.2741 - accuracy: 0.8902 - val_loss: 0.3141 - val_accuracy: 0.8691\n",
      "Epoch 3/5\n",
      "500/500 [==============================] - 344s 689ms/step - loss: 0.2288 - accuracy: 0.9101 - val_loss: 0.2929 - val_accuracy: 0.8783\n",
      "Epoch 4/5\n",
      "500/500 [==============================] - 601s 1s/step - loss: 0.1932 - accuracy: 0.9254 - val_loss: 0.3183 - val_accuracy: 0.8721\n",
      "Epoch 5/5\n",
      "500/500 [==============================] - 319s 638ms/step - loss: 0.1696 - accuracy: 0.9342 - val_loss: 0.3235 - val_accuracy: 0.8705\n"
     ]
    },
    {
     "data": {
      "text/plain": [
       "<keras.callbacks.History at 0x227b1c9b250>"
      ]
     },
     "execution_count": 31,
     "metadata": {},
     "output_type": "execute_result"
    }
   ],
   "source": [
    "model.fit(X_train, Y_train, epochs=5, batch_size=64, validation_split=0.2)"
   ]
  },
  {
   "cell_type": "markdown",
   "id": "8cc144d4",
   "metadata": {},
   "source": [
    "## Model Evaluation"
   ]
  },
  {
   "cell_type": "code",
   "execution_count": 32,
   "id": "547f73d4",
   "metadata": {},
   "outputs": [
    {
     "name": "stdout",
     "output_type": "stream",
     "text": [
      "313/313 [==============================] - 21s 64ms/step - loss: 0.3040 - accuracy: 0.8740\n",
      "Test Loss: 0.30397823452949524\n",
      "Test Accuracy: 0.8740000128746033\n"
     ]
    }
   ],
   "source": [
    "loss, accuracy = model.evaluate(X_test, Y_test)\n",
    "print(f\"Test Loss: {loss}\")\n",
    "print(f\"Test Accuracy: {accuracy}\")"
   ]
  },
  {
   "cell_type": "markdown",
   "id": "bf597a20",
   "metadata": {},
   "source": [
    "## Building a Predictive System"
   ]
  },
  {
   "cell_type": "code",
   "execution_count": 33,
   "id": "8d7bab41",
   "metadata": {},
   "outputs": [],
   "source": [
    "def predict_sentiment(review):\n",
    "  # tokenize and pad the review\n",
    "  sequence = tokenizer.texts_to_sequences([review])\n",
    "  padded_sequence = pad_sequences(sequence, maxlen=200)\n",
    "  prediction = model.predict(padded_sequence)\n",
    "  sentiment = \"positive\" if prediction[0][0] > 0.5 else \"negative\"\n",
    "  return sentiment"
   ]
  },
  {
   "cell_type": "code",
   "execution_count": 34,
   "id": "f8256bf5",
   "metadata": {},
   "outputs": [
    {
     "name": "stdout",
     "output_type": "stream",
     "text": [
      "1/1 [==============================] - 0s 371ms/step\n",
      "The sentiment of the review is: positive\n"
     ]
    }
   ],
   "source": [
    "# example usage\n",
    "new_review = \"This movie was fantastic. I loved it.\"\n",
    "sentiment = predict_sentiment(new_review)\n",
    "print(f\"The sentiment of the review is: {sentiment}\")"
   ]
  },
  {
   "cell_type": "code",
   "execution_count": 35,
   "id": "1f5b544d",
   "metadata": {},
   "outputs": [
    {
     "name": "stdout",
     "output_type": "stream",
     "text": [
      "1/1 [==============================] - 0s 58ms/step\n",
      "The sentiment of the review is: negative\n"
     ]
    }
   ],
   "source": [
    "# example usage\n",
    "new_review = \"This movie was not that good\"\n",
    "sentiment = predict_sentiment(new_review)\n",
    "print(f\"The sentiment of the review is: {sentiment}\")"
   ]
  },
  {
   "cell_type": "code",
   "execution_count": 36,
   "id": "67125455",
   "metadata": {},
   "outputs": [
    {
     "name": "stdout",
     "output_type": "stream",
     "text": [
      "1/1 [==============================] - 0s 59ms/step\n",
      "The sentiment of the review is: negative\n"
     ]
    }
   ],
   "source": [
    "# example usage\n",
    "new_review = \"This movie was ok but not that good.\"\n",
    "sentiment = predict_sentiment(new_review)\n",
    "print(f\"The sentiment of the review is: {sentiment}\")"
   ]
  },
  {
   "cell_type": "code",
   "execution_count": 38,
   "id": "b78c055a",
   "metadata": {},
   "outputs": [
    {
     "name": "stdout",
     "output_type": "stream",
     "text": [
      "1/1 [==============================] - 0s 60ms/step\n",
      "The sentiment of the review is: positive\n"
     ]
    }
   ],
   "source": [
    "# example usage\n",
    "new_review = \"This movie was a bit logical because the plot structure was complicated.However, I still liked it\"\n",
    "sentiment = predict_sentiment(new_review)\n",
    "print(f\"The sentiment of the review is: {sentiment}\")"
   ]
  }
 ],
 "metadata": {
  "kernelspec": {
   "display_name": "Python 3 (ipykernel)",
   "language": "python",
   "name": "python3"
  },
  "language_info": {
   "codemirror_mode": {
    "name": "ipython",
    "version": 3
   },
   "file_extension": ".py",
   "mimetype": "text/x-python",
   "name": "python",
   "nbconvert_exporter": "python",
   "pygments_lexer": "ipython3",
   "version": "3.10.9"
  }
 },
 "nbformat": 4,
 "nbformat_minor": 5
}
